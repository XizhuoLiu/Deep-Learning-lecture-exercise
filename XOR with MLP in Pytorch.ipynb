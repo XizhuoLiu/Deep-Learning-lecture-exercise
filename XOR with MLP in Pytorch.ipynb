{
 "cells": [
  {
   "cell_type": "code",
   "execution_count": 17,
   "id": "caba0d33-c2f1-4759-aee6-48c3d01b2d51",
   "metadata": {},
   "outputs": [],
   "source": [
    "### Defining the model\n",
    "import numpy as np\n",
    "import torch\n",
    "import torch.nn as nn\n",
    "\n",
    "xor_mlp_pytorch = nn.Sequential(\n",
    "    nn.Linear(2, 3),\n",
    "    nn.ReLU(),\n",
    "    nn.Linear(3,3),\n",
    "    nn.ReLU(),\n",
    "    nn.Linear(3, 3),\n",
    "    nn.ReLU(),\n",
    "    nn.Linear(3, 1),\n",
    "    nn.Sigmoid()\n",
    ")"
   ]
  },
  {
   "cell_type": "code",
   "execution_count": 4,
   "id": "a07e2d04-1885-47e0-ba10-46aa534db02b",
   "metadata": {},
   "outputs": [
    {
     "data": {
      "text/plain": [
       "Sequential(\n",
       "  (0): Linear(in_features=2, out_features=3, bias=True)\n",
       "  (1): ReLU()\n",
       "  (2): Linear(in_features=3, out_features=3, bias=True)\n",
       "  (3): ReLU()\n",
       "  (4): Linear(in_features=3, out_features=3, bias=True)\n",
       "  (5): ReLU()\n",
       "  (6): Linear(in_features=3, out_features=1, bias=True)\n",
       "  (7): Sigmoid()\n",
       ")"
      ]
     },
     "execution_count": 4,
     "metadata": {},
     "output_type": "execute_result"
    }
   ],
   "source": [
    "### Initialize weights\n",
    "\n",
    "def init_weights(m):\n",
    "    if isinstance(m, nn.Linear):\n",
    "        nn.init.xavier_uniform_(m.weight)\n",
    "        if m.bias is not None:\n",
    "            nn.init.constant_(m.bias, 0)\n",
    "\n",
    "### Apply the initialization to the model\n",
    "xor_mlp_pytorch.apply(init_weights)"
   ]
  },
  {
   "cell_type": "code",
   "execution_count": 5,
   "id": "89a9126c-81ce-45bd-9aa4-206038db13d1",
   "metadata": {},
   "outputs": [],
   "source": [
    "### Loss function\n",
    "loss_fn = nn.BCELoss()"
   ]
  },
  {
   "cell_type": "code",
   "execution_count": 6,
   "id": "cbaf2a4f-387b-4e6c-ba01-e34d7eb52675",
   "metadata": {},
   "outputs": [],
   "source": [
    "### Optimizer SGD\n",
    "optimizer = torch.optim.SGD(xor_mlp_pytorch.parameters(), lr=0.05)"
   ]
  },
  {
   "cell_type": "code",
   "execution_count": 10,
   "id": "6609b65f-e7d4-49cf-a5c7-8cdd3ce9d9aa",
   "metadata": {},
   "outputs": [
    {
     "name": "stdout",
     "output_type": "stream",
     "text": [
      "*************** Values after zero_grad **************\n",
      "Parameter containing:\n",
      "tensor([[-0.8245,  0.1991],\n",
      "        [ 0.5883,  0.0505],\n",
      "        [-0.6782,  0.3601]], requires_grad=True)\n",
      "None\n",
      "*************** Values after forward ***************\n",
      "Parameter containing:\n",
      "tensor([[-0.8245,  0.1991],\n",
      "        [ 0.5883,  0.0505],\n",
      "        [-0.6782,  0.3601]], requires_grad=True)\n",
      "None\n",
      "*************** Values after loss calculation ***************\n",
      "Parameter containing:\n",
      "tensor([[-0.8245,  0.1991],\n",
      "        [ 0.5883,  0.0505],\n",
      "        [-0.6782,  0.3601]], requires_grad=True)\n",
      "None\n",
      "*************** Values after backward ***************\n",
      "Parameter containing:\n",
      "tensor([[-0.8245,  0.1991],\n",
      "        [ 0.5883,  0.0505],\n",
      "        [-0.6782,  0.3601]], requires_grad=True)\n",
      "None\n",
      "*************** Values after weight update \n",
      "Parameter containing:\n",
      "tensor([[-0.8245,  0.1991],\n",
      "        [ 0.5883,  0.0505],\n",
      "        [-0.6782,  0.3601]], requires_grad=True)\n",
      "None\n",
      "*************** Values after zero_grad **************\n",
      "Parameter containing:\n",
      "tensor([[-0.8245,  0.1991],\n",
      "        [ 0.5883,  0.0505],\n",
      "        [-0.6782,  0.3601]], requires_grad=True)\n",
      "None\n",
      "*************** Values after forward ***************\n",
      "Parameter containing:\n",
      "tensor([[-0.8245,  0.1991],\n",
      "        [ 0.5883,  0.0505],\n",
      "        [-0.6782,  0.3601]], requires_grad=True)\n",
      "None\n",
      "*************** Values after loss calculation ***************\n",
      "Parameter containing:\n",
      "tensor([[-0.8245,  0.1991],\n",
      "        [ 0.5883,  0.0505],\n",
      "        [-0.6782,  0.3601]], requires_grad=True)\n",
      "None\n",
      "*************** Values after backward ***************\n",
      "Parameter containing:\n",
      "tensor([[-0.8245,  0.1991],\n",
      "        [ 0.5883,  0.0505],\n",
      "        [-0.6782,  0.3601]], requires_grad=True)\n",
      "None\n",
      "*************** Values after weight update \n",
      "Parameter containing:\n",
      "tensor([[-0.8245,  0.1991],\n",
      "        [ 0.5883,  0.0505],\n",
      "        [-0.6782,  0.3601]], requires_grad=True)\n",
      "None\n"
     ]
    }
   ],
   "source": [
    "### Training\n",
    "\n",
    "### Define our data\n",
    "input_data_tensor = torch.tensor([[0, 0], [0, 1], [1, 1], [1, 0]], dtype=torch.float)\n",
    "targets_tensor = torch.unsqueeze(\n",
    "    torch.tensor([0, 1, 1, 0], dtype=torch.float), 1\n",
    ")\n",
    "\n",
    "### Training loop\n",
    "epochs = 3000\n",
    "for epoch in range(epochs):\n",
    "    optimizer.zero_grad()\n",
    "    if epoch < 2:\n",
    "        print(\"*************** Values after zero_grad **************\")\n",
    "        print(xor_mlp_pytorch[0].weight)\n",
    "        print(xor_mlp_pytorch[0].weight.grad)\n",
    "\n",
    "    output = xor_mlp_pytorch(input_data_tensor)\n",
    "\n",
    "    if epoch < 2:\n",
    "        print(\"*************** Values after forward ***************\")\n",
    "        print(xor_mlp_pytorch[0].weight)\n",
    "        print(xor_mlp_pytorch[0].weight.grad)\n",
    "   \n",
    "    loss = loss_fn(output, targets_tensor)\n",
    "\n",
    "    if epoch < 2:\n",
    "        print(\"*************** Values after loss calculation ***************\")\n",
    "        print(xor_mlp_pytorch[0].weight)\n",
    "        print(xor_mlp_pytorch[0].weight.grad)\n",
    "\n",
    "    loss.backward\n",
    "\n",
    "    if epoch < 2:\n",
    "        print(\"*************** Values after backward ***************\")\n",
    "        print(xor_mlp_pytorch[0].weight)\n",
    "        print(xor_mlp_pytorch[0].weight.grad)\n",
    "\n",
    "    optimizer.step\n",
    "\n",
    "    if epoch < 2:\n",
    "        print(\"*************** Values after weight update \")\n",
    "        print(xor_mlp_pytorch[0].weight)\n",
    "        print(xor_mlp_pytorch[0].weight.grad)\n",
    "        \n",
    "        "
   ]
  },
  {
   "cell_type": "code",
   "execution_count": 14,
   "id": "65b7056d-323e-4c0e-97fd-7e431c83b87e",
   "metadata": {},
   "outputs": [
    {
     "name": "stdout",
     "output_type": "stream",
     "text": [
      "<BinaryCrossEntropyBackward0 object at 0x000001A032266C50>\n",
      "<SigmoidBackward0 object at 0x000001A0313B63B0>\n",
      "<AddmmBackward0 object at 0x000001A032C023E0>\n"
     ]
    }
   ],
   "source": [
    "### Follow the loss in the backward direction, using its .grad_fn attribute too see the computation graph:\n",
    "\n",
    "print(loss.grad_fn)\n",
    "print(loss.grad_fn.next_functions[0][0])\n",
    "print(loss.grad_fn.next_functions[0][0].next_functions[0][0])"
   ]
  },
  {
   "cell_type": "code",
   "execution_count": 15,
   "id": "c8f38952-4eed-4bb7-82ea-8b75f3ecb870",
   "metadata": {},
   "outputs": [],
   "source": [
    "def accuracy(predictions, targets, threshold=0.5):\n",
    "    predictions = (predictions >= threshold).astype(int)\n",
    "    accuracy = np.mean(predictions == targets)\n",
    "    return accuracy"
   ]
  },
  {
   "cell_type": "code",
   "execution_count": 18,
   "id": "b23731ca-1a6e-4c8e-9d2e-ad70b110d369",
   "metadata": {},
   "outputs": [
    {
     "name": "stdout",
     "output_type": "stream",
     "text": [
      "0.5\n"
     ]
    }
   ],
   "source": [
    "### Evaluation\n",
    "\n",
    "predictions = xor_mlp_pytorch(input_data_tensor)\n",
    "accuracy_value = accuracy(\n",
    "    predictions.detach().numpy(), targets_tensor.numpy(), threshold=0.5\n",
    ")\n",
    "print(accuracy_value)"
   ]
  },
  {
   "cell_type": "code",
   "execution_count": null,
   "id": "48702a8b-b981-464a-8d97-3c4f6b765ef9",
   "metadata": {},
   "outputs": [],
   "source": [
    "\n",
    "\n",
    "\n"
   ]
  }
 ],
 "metadata": {
  "kernelspec": {
   "display_name": "Python 3 (ipykernel)",
   "language": "python",
   "name": "python3"
  },
  "language_info": {
   "codemirror_mode": {
    "name": "ipython",
    "version": 3
   },
   "file_extension": ".py",
   "mimetype": "text/x-python",
   "name": "python",
   "nbconvert_exporter": "python",
   "pygments_lexer": "ipython3",
   "version": "3.12.4"
  }
 },
 "nbformat": 4,
 "nbformat_minor": 5
}
