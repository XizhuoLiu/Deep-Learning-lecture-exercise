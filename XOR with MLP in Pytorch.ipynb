{
 "cells": [
  {
   "cell_type": "code",
   "execution_count": 1,
   "id": "caba0d33-c2f1-4759-aee6-48c3d01b2d51",
   "metadata": {},
   "outputs": [],
   "source": [
    "### Defining the model\n",
    "\n",
    "import torch\n",
    "import torch.nn as nn\n",
    "\n",
    "xor_mlp_pytorch = nn.Sequential(\n",
    "    nn.Linear(2, 3),\n",
    "    nn.ReLU(),\n",
    "    nn.Linear(3,3),\n",
    "    nn.ReLU(),\n",
    "    nn.Linear(3, 3),\n",
    "    nn.ReLU(),\n",
    "    nn.Linear(3, 1),\n",
    "    nn.Sigmoid()\n",
    ")"
   ]
  },
  {
   "cell_type": "code",
   "execution_count": 2,
   "id": "a07e2d04-1885-47e0-ba10-46aa534db02b",
   "metadata": {},
   "outputs": [
    {
     "data": {
      "text/plain": [
       "Sequential(\n",
       "  (0): Linear(in_features=2, out_features=3, bias=True)\n",
       "  (1): ReLU()\n",
       "  (2): Linear(in_features=3, out_features=3, bias=True)\n",
       "  (3): ReLU()\n",
       "  (4): Linear(in_features=3, out_features=3, bias=True)\n",
       "  (5): ReLU()\n",
       "  (6): Linear(in_features=3, out_features=1, bias=True)\n",
       "  (7): Sigmoid()\n",
       ")"
      ]
     },
     "execution_count": 2,
     "metadata": {},
     "output_type": "execute_result"
    }
   ],
   "source": [
    "### Initialize weights\n",
    "\n",
    "def init_weights(m):\n",
    "    if isinstance(m, nn.Linear):\n",
    "        nn.init.xavier_uniform_(m.weight)\n",
    "        if m.bias is not None:\n",
    "            nn.init.constant_(m.bias, 0)\n",
    "\n",
    "### Apply the initialization to the model\n",
    "xor_mlp_pytorch.apply(init_weights)"
   ]
  },
  {
   "cell_type": "code",
   "execution_count": 3,
   "id": "89a9126c-81ce-45bd-9aa4-206038db13d1",
   "metadata": {},
   "outputs": [],
   "source": [
    "### Loss function\n",
    "loss_fn = nn.BCELoss()"
   ]
  },
  {
   "cell_type": "code",
   "execution_count": 4,
   "id": "cbaf2a4f-387b-4e6c-ba01-e34d7eb52675",
   "metadata": {},
   "outputs": [],
   "source": [
    "### Optimizer SGD\n",
    "optimizer = torch.optim.SGD(xor_mlp_pytorch.parameters(), lr=0.05)"
   ]
  },
  {
   "cell_type": "code",
   "execution_count": null,
   "id": "6609b65f-e7d4-49cf-a5c7-8cdd3ce9d9aa",
   "metadata": {},
   "outputs": [],
   "source": [
    "### Training\n",
    "\n"
   ]
  }
 ],
 "metadata": {
  "kernelspec": {
   "display_name": "Python 3 (ipykernel)",
   "language": "python",
   "name": "python3"
  },
  "language_info": {
   "codemirror_mode": {
    "name": "ipython",
    "version": 3
   },
   "file_extension": ".py",
   "mimetype": "text/x-python",
   "name": "python",
   "nbconvert_exporter": "python",
   "pygments_lexer": "ipython3",
   "version": "3.12.4"
  }
 },
 "nbformat": 4,
 "nbformat_minor": 5
}
