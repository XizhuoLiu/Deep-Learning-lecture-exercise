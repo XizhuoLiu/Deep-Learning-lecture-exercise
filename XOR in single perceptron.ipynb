{
 "cells": [
  {
   "cell_type": "code",
   "execution_count": 2,
   "id": "282bccea-2bc7-4a1e-8b72-5437ab08ee5e",
   "metadata": {},
   "outputs": [],
   "source": [
    "import numpy as np\n",
    "\n",
    "###single perceptron implement\n",
    "class perceptron_implementation():\n",
    "    def __init__(self):\n",
    "        self.neuron_weights = np.zeros(2)\n",
    "        self.bias = 0\n",
    "\n",
    "    def forward_pass(self, x):\n",
    "        output = np.dot(self.neuron_weights, x) + self.bias\n",
    "        return output\n",
    "\n",
    "    def perceptron_update_rule(self, target, prediction, x, learning_rate=1):\n",
    "        new_weights = self.neuron_weights + learning_rate * (target - prediction) * x\n",
    "        self.neuron_weights = new_weights\n",
    "\n",
    "    def train(self, input_data, targets):\n",
    "        for x, y in zip(input_data, targets):\n",
    "            o = self.forward_pass(x)\n",
    "            self.perceptron_update_rule(y, o, x, learning_rate=0.00001)\n",
    "\n",
    "    def inference(self, input_data):\n",
    "        outputs = []\n",
    "        for x in input_data:\n",
    "            o = self.forward_pass(x)\n",
    "            outputs.append(o)\n",
    "\n",
    "        return np.array(outputs)"
   ]
  },
  {
   "cell_type": "code",
   "execution_count": 6,
   "id": "58f70916-1e92-4c8a-82fe-2d7e83b1910b",
   "metadata": {},
   "outputs": [],
   "source": [
    "###training\n",
    "\n",
    "perceptron = perceptron_implementation()\n",
    "\n",
    "input_data = np.array([[0, 0], [0, 1], [1, 0], [1, 1]])\n",
    "targets = np.array([0, 1, 1, 0])\n",
    "\n",
    "perceptron.train(input_data, targets)\n"
   ]
  },
  {
   "cell_type": "code",
   "execution_count": 7,
   "id": "434d5caf-a28c-4f31-920d-bb4157a04691",
   "metadata": {},
   "outputs": [
    {
     "name": "stdout",
     "output_type": "stream",
     "text": [
      "[0.00000e+00 9.99980e-06 9.99980e-06 1.99996e-05]\n"
     ]
    }
   ],
   "source": [
    "###inference\n",
    "\n",
    "predictions = perceptron.inference(input_data)\n",
    "print(predictions)"
   ]
  },
  {
   "cell_type": "code",
   "execution_count": 12,
   "id": "d443ec4e-873c-4258-8117-68d51ef236a0",
   "metadata": {},
   "outputs": [
    {
     "name": "stdout",
     "output_type": "stream",
     "text": [
      "0.5\n"
     ]
    }
   ],
   "source": [
    "###evaluation\n",
    "\n",
    "def accuracy(predictions: np.ndarray, targets: np.ndarray, threshold=0.5) -> float:\n",
    "    binary_predictions = (predictions >= threshold).astype(int)\n",
    "    accuracy_value = np.mean(binary_predictions == targets)\n",
    "    return accuracy_value\n",
    "\n",
    "accuracy_value = accuracy(predictions, targets)\n",
    "print(accuracy_value)"
   ]
  },
  {
   "cell_type": "code",
   "execution_count": null,
   "id": "114732bd-7590-4ddb-8681-013d5c8cee3a",
   "metadata": {},
   "outputs": [],
   "source": []
  }
 ],
 "metadata": {
  "kernelspec": {
   "display_name": "Python 3 (ipykernel)",
   "language": "python",
   "name": "python3"
  },
  "language_info": {
   "codemirror_mode": {
    "name": "ipython",
    "version": 3
   },
   "file_extension": ".py",
   "mimetype": "text/x-python",
   "name": "python",
   "nbconvert_exporter": "python",
   "pygments_lexer": "ipython3",
   "version": "3.12.4"
  }
 },
 "nbformat": 4,
 "nbformat_minor": 5
}
